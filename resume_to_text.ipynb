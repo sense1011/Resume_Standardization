{
 "cells": [
  {
   "cell_type": "code",
   "execution_count": 22,
   "metadata": {},
   "outputs": [],
   "source": [
    "#%pip install python-docx"
   ]
  },
  {
   "cell_type": "code",
   "execution_count": 1,
   "metadata": {},
   "outputs": [],
   "source": [
    "from pdfminer3.layout import LAParams, LTTextBox\n",
    "from pdfminer3.pdfpage import PDFPage\n",
    "from pdfminer3.pdfinterp import PDFResourceManager\n",
    "from pdfminer3.pdfinterp import PDFPageInterpreter\n",
    "from pdfminer3.converter import PDFPageAggregator\n",
    "from pdfminer3.converter import TextConverter\n",
    "import io\n",
    "import os\n",
    "import textract\n",
    "import docx"
   ]
  },
  {
   "cell_type": "code",
   "execution_count": 2,
   "metadata": {},
   "outputs": [],
   "source": [
    "projectDir = '/Users/shishen/Insight_Data_Science/Resume_Standardization/'\n",
    "resumeDir = projectDir + 'data/raw_resume/'"
   ]
  },
  {
   "cell_type": "code",
   "execution_count": 3,
   "metadata": {},
   "outputs": [],
   "source": [
    "def convert_pdf_to_txt(path):\n",
    "    resource_manager = PDFResourceManager()\n",
    "    fake_file_handle = io.StringIO()\n",
    "    converter = TextConverter(resource_manager, fake_file_handle, laparams=LAParams())\n",
    "    page_interpreter = PDFPageInterpreter(resource_manager, converter)\n",
    "\n",
    "    with open(path, 'rb') as fh:\n",
    "\n",
    "        for page in PDFPage.get_pages(fh,\n",
    "                                      caching=True,\n",
    "                                      check_extractable=True):\n",
    "            page_interpreter.process_page(page)\n",
    "\n",
    "        text = fake_file_handle.getvalue()\n",
    "\n",
    "    # close open handles\n",
    "    converter.close()\n",
    "    fake_file_handle.close()\n",
    "\n",
    "    return text"
   ]
  },
  {
   "cell_type": "code",
   "execution_count": 4,
   "metadata": {},
   "outputs": [],
   "source": [
    "resumeTxt = []\n",
    "for filename in os.listdir(resumeDir):\n",
    "    if(filename.endswith(\".pdf\")):\n",
    "        try:\n",
    "            resumeTxt.append(convert_pdf_to_txt(resumeDir+filename))\n",
    "        except Exception:\n",
    "            print('Error reading .pdf file' + filename)\n",
    "    if(filename.endswith(\".docx\")):\n",
    "        try:\n",
    "            doc = docx.Document(resumeDir + filename)\n",
    "            data = \"\"\n",
    "            fullText = []\n",
    "            for para in doc.paragraphs:\n",
    "                fullText.append(para.text)\n",
    "                data = '\\n'.join(fullText)\n",
    "            resumeTxt.append(data)\n",
    "        except IOError:\n",
    "            print('Error reading .docx file' + filename)\n",
    "    if(filename.endswith(\".doc\")):\n",
    "        try:\n",
    "            text = textract.process(resumeDir+filename).decode('utf-8')     \n",
    "            resumeTxt.append(text)\n",
    "        except Exception:\n",
    "            print('Error reading .doc file :' + filename)"
   ]
  },
  {
   "cell_type": "code",
   "execution_count": 6,
   "metadata": {},
   "outputs": [],
   "source": [
    "txt_file = projectDir + 'data/clean_resume/resume'"
   ]
  },
  {
   "cell_type": "code",
   "execution_count": 11,
   "metadata": {},
   "outputs": [],
   "source": [
    "i = 0\n",
    "for resume in resumeTxt:\n",
    "    file = open(txt_file + str(i) + '.txt', 'w+')\n",
    "    file.writelines(resume)\n",
    "    file.close()\n",
    "    i += 1"
   ]
  }
 ],
 "metadata": {
  "kernelspec": {
   "display_name": "Python 3",
   "language": "python",
   "name": "python3"
  },
  "language_info": {
   "codemirror_mode": {
    "name": "ipython",
    "version": 3
   },
   "file_extension": ".py",
   "mimetype": "text/x-python",
   "name": "python",
   "nbconvert_exporter": "python",
   "pygments_lexer": "ipython3",
   "version": "3.7.3"
  }
 },
 "nbformat": 4,
 "nbformat_minor": 4
}
